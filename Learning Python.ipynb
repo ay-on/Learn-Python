{
 "cells": [
  {
   "cell_type": "markdown",
   "id": "f7cd69d1",
   "metadata": {},
   "source": [
    "## Write a program to print Hello World!"
   ]
  },
  {
   "cell_type": "code",
   "execution_count": null,
   "id": "26fabbf2",
   "metadata": {},
   "outputs": [],
   "source": [
    "print(\"Hello World!\")"
   ]
  },
  {
   "cell_type": "markdown",
   "id": "a4e7175d",
   "metadata": {},
   "source": [
    "## Program to find the square root"
   ]
  },
  {
   "cell_type": "code",
   "execution_count": null,
   "id": "14e4c309",
   "metadata": {},
   "outputs": [],
   "source": [
    "#solution-1 using exponentiation\n",
    "\n",
    "num = int(input(\"Enter a number: \"))\n",
    "sr = num ** 0.5\n",
    "\n",
    "print(\"The square root of given number is\", sr)\n",
    "\n",
    "\n",
    "#solution-2 using Math Module\n",
    "\n",
    "import math\n",
    "\n",
    "num = int(input(\"Enter a number: \"))\n",
    "sr = math.sqrt(num)\n",
    "\n",
    "print(\"The square root of given number is\", sr)"
   ]
  },
  {
   "cell_type": "code",
   "execution_count": null,
   "id": "cf8f9a47",
   "metadata": {},
   "outputs": [],
   "source": []
  }
 ],
 "metadata": {
  "kernelspec": {
   "display_name": "Python 3 (ipykernel)",
   "language": "python",
   "name": "python3"
  },
  "language_info": {
   "codemirror_mode": {
    "name": "ipython",
    "version": 3
   },
   "file_extension": ".py",
   "mimetype": "text/x-python",
   "name": "python",
   "nbconvert_exporter": "python",
   "pygments_lexer": "ipython3",
   "version": "3.10.2"
  },
  "varInspector": {
   "cols": {
    "lenName": 16,
    "lenType": 16,
    "lenVar": 40
   },
   "kernels_config": {
    "python": {
     "delete_cmd_postfix": "",
     "delete_cmd_prefix": "del ",
     "library": "var_list.py",
     "varRefreshCmd": "print(var_dic_list())"
    },
    "r": {
     "delete_cmd_postfix": ") ",
     "delete_cmd_prefix": "rm(",
     "library": "var_list.r",
     "varRefreshCmd": "cat(var_dic_list()) "
    }
   },
   "types_to_exclude": [
    "module",
    "function",
    "builtin_function_or_method",
    "instance",
    "_Feature"
   ],
   "window_display": false
  }
 },
 "nbformat": 4,
 "nbformat_minor": 5
}
