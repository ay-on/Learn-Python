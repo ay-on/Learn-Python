{
 "cells": [
  {
   "cell_type": "markdown",
   "id": "f7cd69d1",
   "metadata": {},
   "source": [
    "## Program to Print Hello World!"
   ]
  },
  {
   "cell_type": "code",
   "execution_count": null,
   "id": "26fabbf2",
   "metadata": {},
   "outputs": [],
   "source": [
    "print(\"Hello World!\")"
   ]
  },
  {
   "cell_type": "markdown",
   "id": "a4e7175d",
   "metadata": {},
   "source": [
    "## Program to Find the Square Root"
   ]
  },
  {
   "cell_type": "code",
   "execution_count": null,
   "id": "14e4c309",
   "metadata": {},
   "outputs": [],
   "source": [
    "#solution-1 using exponentiation\n",
    "\n",
    "num = int(input(\"Enter a number: \"))\n",
    "sr = num ** 0.5\n",
    "\n",
    "print(\"The square root of given number is\", sr)\n",
    "\n",
    "\n",
    "#solution-2 using Math Module\n",
    "\n",
    "import math\n",
    "\n",
    "num = int(input(\"Enter a number: \"))\n",
    "sr = math.sqrt(num)\n",
    "\n",
    "print(\"The square root of given number is\", sr)"
   ]
  },
  {
   "cell_type": "markdown",
   "id": "23ff0adb",
   "metadata": {},
   "source": [
    "## Program to Calculate the Area of a Triangle"
   ]
  },
  {
   "cell_type": "code",
   "execution_count": null,
   "id": "6a170d0d",
   "metadata": {},
   "outputs": [],
   "source": [
    "height = float(input(\"Enter the height of the triange: \"))\n",
    "base = float(input(\"Enter the base of the triangle: \"))\n",
    "\n",
    "area = (0.5)*base*height\n",
    "\n",
    "print(\"The area is \", area)"
   ]
  },
  {
   "cell_type": "markdown",
   "id": "11cc7ff1",
   "metadata": {},
   "source": [
    "## Program to Solve Quadratic Equation"
   ]
  },
  {
   "cell_type": "code",
   "execution_count": null,
   "id": "32cee501",
   "metadata": {},
   "outputs": [],
   "source": [
    "#formula is ax**2 + bx + c = 0\n",
    "#formula for discriminant is b**2 - 4*a*c\n",
    "#a, b, c are real numbers\n",
    "#a!= 0\n",
    "\n",
    "import cmath\n",
    "\n",
    "a = int(input(\"Enter the a (a!=0): \"))\n",
    "b = int(input(\"Enter b: \"))\n",
    "c = int(input(\"Enter c: \"))\n",
    "\n",
    "d = (b**2) - (4*a*c)\n",
    "\n",
    "root1 = (-b-cmath.sqrt(d))/(2*a)\n",
    "root2 = (-b+cmath.sqrt(d))/(2*a)\n",
    "\n",
    "print(f\"The roots are {root1} & {root2}\")"
   ]
  },
  {
   "cell_type": "markdown",
   "id": "4133bbe5",
   "metadata": {},
   "source": [
    "## Program to Swap Two Variables"
   ]
  },
  {
   "cell_type": "code",
   "execution_count": null,
   "id": "255c156c",
   "metadata": {},
   "outputs": [],
   "source": [
    "#solution-1 (using third variable)\n",
    "\n",
    "x = 10\n",
    "y = 6\n",
    "\n",
    "temp = x\n",
    "print(\"The value of temp variable is\", temp)\n",
    "\n",
    "x = y\n",
    "print(\"The value of x is \", x)\n",
    "\n",
    "y = temp\n",
    "print(\"The value of y is \", y)\n",
    "\n",
    "#solution-2\n",
    "\n",
    "x = 10\n",
    "y = 6\n",
    "\n",
    "x, y = y, x\n",
    "\n",
    "print(f\"Now the value of x is {x} & y is {y}\")"
   ]
  },
  {
   "cell_type": "markdown",
   "id": "caf9c533",
   "metadata": {},
   "source": [
    "## Program to Generate A Random Number"
   ]
  },
  {
   "cell_type": "code",
   "execution_count": null,
   "id": "0b349765",
   "metadata": {},
   "outputs": [],
   "source": [
    "import random\n",
    "\n",
    "num = random.randint(0,10)\n",
    "\n",
    "print(num)"
   ]
  },
  {
   "cell_type": "markdown",
   "id": "65994cc9",
   "metadata": {},
   "source": [
    "## Program to Convert Kilometers to Miles"
   ]
  },
  {
   "cell_type": "code",
   "execution_count": null,
   "id": "a24cb421",
   "metadata": {},
   "outputs": [],
   "source": [
    "km = float(input(\"Enter your value in kms: \"))\n",
    "\n",
    "miles = (0.621371)*km\n",
    "\n",
    "print(f\"{km} in miles is {miles}\")"
   ]
  },
  {
   "cell_type": "markdown",
   "id": "cba32570",
   "metadata": {},
   "source": [
    "## Program to Convert Celcius to Fahrenheit"
   ]
  },
  {
   "cell_type": "code",
   "execution_count": null,
   "id": "010e3f4e",
   "metadata": {},
   "outputs": [],
   "source": [
    "#solution-1\n",
    "\n",
    "celsius = int(input(\"Enter temperature in celsius: \"))\n",
    "\n",
    "farhenheit = (celsius*(9/5))+32\n",
    "\n",
    "print(f\"Value in farhenheit is {farhenheit}\")"
   ]
  },
  {
   "cell_type": "markdown",
   "id": "7cb2dad5",
   "metadata": {},
   "source": [
    "## Program to Check if a Number is Positive, Negative or Zero"
   ]
  },
  {
   "cell_type": "code",
   "execution_count": null,
   "id": "13687bb0",
   "metadata": {},
   "outputs": [],
   "source": [
    "num = int(input(\"Enter a number to check \"))\n",
    "\n",
    "if num > 0:\n",
    "    print(\"Positive number\")\n",
    "    \n",
    "elif num == 0:\n",
    "    print(\"Zero\")\n",
    "else"
   ]
  },
  {
   "cell_type": "markdown",
   "id": "22bc6721",
   "metadata": {},
   "source": [
    "## Check if a Number is Odd or Even"
   ]
  },
  {
   "cell_type": "code",
   "execution_count": null,
   "id": "87c78c8d",
   "metadata": {},
   "outputs": [],
   "source": [
    "num = int(input(\"Enter a number to check: \"))\n",
    "\n",
    "if num % 2 == 0:\n",
    "    print(\"It's an even numer\")\n",
    "else:\n",
    "    print(\"It's an odd number\")"
   ]
  },
  {
   "cell_type": "markdown",
   "id": "5b3f7b53",
   "metadata": {},
   "source": [
    "## Program to Check Leap Year or Not"
   ]
  },
  {
   "cell_type": "code",
   "execution_count": null,
   "id": "b0a91e41",
   "metadata": {},
   "outputs": [],
   "source": [
    "year = int(input(\"Enter a year: \"))\n",
    "\n",
    "if (year % 400 == 0) and (year % 100 == 0):\n",
    "    print(year, \"year is a leap year\")\n",
    "elif (year % 4 == 0) and (year % 100 != 0):\n",
    "    print(year, \"year is a leap year\")\n",
    "else:\n",
    "    print(year, \"is not a leap year\")"
   ]
  },
  {
   "cell_type": "markdown",
   "id": "c7cea8b4",
   "metadata": {},
   "source": [
    "## Area of Circle in Python"
   ]
  },
  {
   "cell_type": "code",
   "execution_count": null,
   "id": "e571ffd2",
   "metadata": {},
   "outputs": [],
   "source": [
    "r = int(input(\"Enter the radius:\"))\n",
    "\n",
    "area = 3.14*r*r\n",
    "\n",
    "print(\"The area is:\", area)"
   ]
  },
  {
   "cell_type": "markdown",
   "id": "a8eadf7a",
   "metadata": {},
   "source": [
    "## Find the Largest Among Three Numbers"
   ]
  },
  {
   "cell_type": "code",
   "execution_count": null,
   "id": "4f0fef8e",
   "metadata": {},
   "outputs": [],
   "source": [
    "num1 = float(input(\"First number? \"))\n",
    "num2 = float(input(\"Second number? \"))\n",
    "num3 = float(input(\"Third number? \"))\n",
    "\n",
    "if (num1 > num2) & (num1 > num3):\n",
    "    print(num1, \"is the largest one\")\n",
    "elif (num2 > num1) & (num2 > num3):\n",
    "    print(num2, \"is the largest one\")\n",
    "else:\n",
    "    print(num3, \"is the largest one\")"
   ]
  },
  {
   "cell_type": "markdown",
   "id": "b1d45539",
   "metadata": {},
   "source": [
    "## Check Prime Number"
   ]
  },
  {
   "cell_type": "code",
   "execution_count": null,
   "id": "fd54edfa",
   "metadata": {},
   "outputs": [],
   "source": [
    "num = int(input(\"Enter a number here: \"))\n",
    "\n",
    "if num == 1:\n",
    "    print(\"It's not a prime number\")\n",
    "if num > 1:\n",
    "    for i in range (2, num):\n",
    "        if num % i == 0:\n",
    "            print(\"It's not a prime number\")\n",
    "        else:\n",
    "            print(\"It's a prime number\")"
   ]
  }
 ],
 "metadata": {
  "kernelspec": {
   "display_name": "Python 3 (ipykernel)",
   "language": "python",
   "name": "python3"
  },
  "language_info": {
   "codemirror_mode": {
    "name": "ipython",
    "version": 3
   },
   "file_extension": ".py",
   "mimetype": "text/x-python",
   "name": "python",
   "nbconvert_exporter": "python",
   "pygments_lexer": "ipython3",
   "version": "3.10.2"
  },
  "varInspector": {
   "cols": {
    "lenName": 16,
    "lenType": 16,
    "lenVar": 40
   },
   "kernels_config": {
    "python": {
     "delete_cmd_postfix": "",
     "delete_cmd_prefix": "del ",
     "library": "var_list.py",
     "varRefreshCmd": "print(var_dic_list())"
    },
    "r": {
     "delete_cmd_postfix": ") ",
     "delete_cmd_prefix": "rm(",
     "library": "var_list.r",
     "varRefreshCmd": "cat(var_dic_list()) "
    }
   },
   "types_to_exclude": [
    "module",
    "function",
    "builtin_function_or_method",
    "instance",
    "_Feature"
   ],
   "window_display": false
  }
 },
 "nbformat": 4,
 "nbformat_minor": 5
}
