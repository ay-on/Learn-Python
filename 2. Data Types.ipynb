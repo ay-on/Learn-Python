{
 "cells": [
  {
   "cell_type": "markdown",
   "id": "de9eb175",
   "metadata": {},
   "source": [
    "# What is Data Types?"
   ]
  },
  {
   "cell_type": "markdown",
   "id": "aff5b120",
   "metadata": {},
   "source": [
    "Imagine you have a special box for different types of things you want to keep. For example, you might have one box for toys, another for clothes, and one more for books. In programming, we also have special \"boxes\" for different kinds of information. These \"boxes\" are called \"data types.\" Each data type holds a specific kind of information, like numbers, words, or even true/false statements."
   ]
  },
  {
   "cell_type": "markdown",
   "id": "ccebfeff",
   "metadata": {},
   "source": [
    "In Python, we use data types to tell the computer what kind of information we want to work with. Just like you put your toys in the toy box and clothes in the clothes box, we use data types to keep things organized for the computer to understand and use correctly."
   ]
  },
  {
   "cell_type": "markdown",
   "id": "961be100",
   "metadata": {},
   "source": [
    "# Code"
   ]
  },
  {
   "cell_type": "code",
   "execution_count": 1,
   "id": "3de42dff",
   "metadata": {},
   "outputs": [],
   "source": [
    "# Numbers - We have two types of numbers in Python: whole numbers (integers) and numbers with decimals (floats).\n",
    "age = 10  # This is an integer data type\n",
    "temperature = 28.5  # This is a float data type\n",
    "\n",
    "# Words - We use the \"str\" data type for words, also known as strings.\n",
    "name = \"Ayon\"  # This is a string data type\n",
    "favorite_color = \"dark blue\"  # This is another string data type\n",
    "\n",
    "# True/False - We use the \"bool\" data type for true or false statements.\n",
    "is_sunny = True  # This is a boolean data type\n",
    "likes_ice_cream = False  # This is another boolean data type"
   ]
  },
  {
   "cell_type": "markdown",
   "id": "0b009c37",
   "metadata": {},
   "source": [
    "# Real-World Applications"
   ]
  },
  {
   "cell_type": "markdown",
   "id": "e3b7b1b4",
   "metadata": {},
   "source": [
    "1. Age and Height - In real life, we have different types of information about ourselves. For example, we have our age, which is a whole number, and our height, which is a number with decimals. In Python, we use different data types to store and work with this information accurately."
   ]
  },
  {
   "cell_type": "markdown",
   "id": "e95174cf",
   "metadata": {},
   "source": [
    "2. Names and Addresses - When you sign up for something online, you need to enter your name and address. These are words, so we use the \"str\" data type to handle this information in Python."
   ]
  },
  {
   "cell_type": "markdown",
   "id": "a34cc3d9",
   "metadata": {},
   "source": [
    "3. Weather Conditions - Weather reports often tell us if it's sunny, rainy, or cloudy. We can use the \"bool\" data type in Python to represent these conditions as true or false values."
   ]
  },
  {
   "cell_type": "markdown",
   "id": "ef39e4e3",
   "metadata": {},
   "source": [
    "3. Game Scores - In games, we want to keep track of players' scores. These scores are usually numbers, and we can use the \"int\" data type to store them in Python."
   ]
  },
  {
   "cell_type": "markdown",
   "id": "c9cb97b6",
   "metadata": {},
   "source": [
    "Data types are like special containers that help us organize and use different types of information in Python. Just like you put specific things in specific boxes, data types make sure the computer understands and handles the information correctly, making programming more organized and efficient!"
   ]
  },
  {
   "cell_type": "code",
   "execution_count": null,
   "id": "2e7d9205",
   "metadata": {},
   "outputs": [],
   "source": []
  }
 ],
 "metadata": {
  "kernelspec": {
   "display_name": "Python 3 (ipykernel)",
   "language": "python",
   "name": "python3"
  },
  "language_info": {
   "codemirror_mode": {
    "name": "ipython",
    "version": 3
   },
   "file_extension": ".py",
   "mimetype": "text/x-python",
   "name": "python",
   "nbconvert_exporter": "python",
   "pygments_lexer": "ipython3",
   "version": "3.11.0"
  },
  "varInspector": {
   "cols": {
    "lenName": 16,
    "lenType": 16,
    "lenVar": 40
   },
   "kernels_config": {
    "python": {
     "delete_cmd_postfix": "",
     "delete_cmd_prefix": "del ",
     "library": "var_list.py",
     "varRefreshCmd": "print(var_dic_list())"
    },
    "r": {
     "delete_cmd_postfix": ") ",
     "delete_cmd_prefix": "rm(",
     "library": "var_list.r",
     "varRefreshCmd": "cat(var_dic_list()) "
    }
   },
   "types_to_exclude": [
    "module",
    "function",
    "builtin_function_or_method",
    "instance",
    "_Feature"
   ],
   "window_display": false
  }
 },
 "nbformat": 4,
 "nbformat_minor": 5
}
