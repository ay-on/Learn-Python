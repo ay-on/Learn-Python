{
 "cells": [
  {
   "cell_type": "markdown",
   "id": "0f8d78e3",
   "metadata": {},
   "source": [
    "# What is a Variable?"
   ]
  },
  {
   "cell_type": "markdown",
   "id": "d13aabfd",
   "metadata": {},
   "source": [
    "Imagine a \"Variable\" as a special container with a name where you can keep something. It's like having a box with a label on it. You can put different things inside this box and give it a name to remember what's inside. And whenever you want to use what's inside the box, you just need to look at the label (the name) and get it out.\n",
    "\n",
    "In programming, a variable is like that named box. It's a way to store and remember information that the computer can use later. It helps the computer remember things and work with data in a flexible way."
   ]
  },
  {
   "cell_type": "markdown",
   "id": "63f434b9",
   "metadata": {},
   "source": [
    "# Examples"
   ]
  },
  {
   "cell_type": "markdown",
   "id": "7632f3a4",
   "metadata": {},
   "source": [
    "For example, let's say you want to keep track of your age. You can create a variable called \"age\" and put your age inside it. Then, whenever you need to know your age, you can look at the \"age\" variable, and it will tell you how old you are.\n",
    "\n",
    "Variables are really helpful because they allow us to store and change data while the program is running. It's like having a magic box where you can keep things and update them whenever you need to!"
   ]
  },
  {
   "cell_type": "markdown",
   "id": "51a2ee59",
   "metadata": {},
   "source": [
    "# Code"
   ]
  },
  {
   "cell_type": "code",
   "execution_count": 1,
   "id": "01819379",
   "metadata": {},
   "outputs": [
    {
     "name": "stdout",
     "output_type": "stream",
     "text": [
      "My name is Ayon\n",
      "My new name is Mr. Chowdhury\n"
     ]
    }
   ],
   "source": [
    "# Creating a variable called 'name' and storing your name in it\n",
    "name = \"Ayon\"\n",
    "\n",
    "# Printing the value of the 'name' variable\n",
    "print(\"My name is\", name)\n",
    "\n",
    "# Updating the value of the 'name' variable\n",
    "name = \"Mr. Chowdhury\"\n",
    "\n",
    "# Printing the updated value of the 'name' variable\n",
    "print(\"My new name is\", name)\n"
   ]
  },
  {
   "cell_type": "markdown",
   "id": "b327f9fe",
   "metadata": {},
   "source": [
    "# Explanation of The Code"
   ]
  },
  {
   "cell_type": "markdown",
   "id": "44da4f16",
   "metadata": {},
   "source": [
    "In this example, we created a variable called 'name' and stored the name \"Ayon\" in it. Then, we printed the value of the 'name' variable. Later, we updated the value of the 'name' variable to \"Mr. Chowdhury\" and printed the updated value. Variables allow us to change and work with data easily, making programming more powerful and fun!"
   ]
  },
  {
   "cell_type": "code",
   "execution_count": null,
   "id": "75e360aa",
   "metadata": {},
   "outputs": [],
   "source": []
  }
 ],
 "metadata": {
  "kernelspec": {
   "display_name": "Python 3 (ipykernel)",
   "language": "python",
   "name": "python3"
  },
  "language_info": {
   "codemirror_mode": {
    "name": "ipython",
    "version": 3
   },
   "file_extension": ".py",
   "mimetype": "text/x-python",
   "name": "python",
   "nbconvert_exporter": "python",
   "pygments_lexer": "ipython3",
   "version": "3.11.0"
  },
  "varInspector": {
   "cols": {
    "lenName": 16,
    "lenType": 16,
    "lenVar": 40
   },
   "kernels_config": {
    "python": {
     "delete_cmd_postfix": "",
     "delete_cmd_prefix": "del ",
     "library": "var_list.py",
     "varRefreshCmd": "print(var_dic_list())"
    },
    "r": {
     "delete_cmd_postfix": ") ",
     "delete_cmd_prefix": "rm(",
     "library": "var_list.r",
     "varRefreshCmd": "cat(var_dic_list()) "
    }
   },
   "types_to_exclude": [
    "module",
    "function",
    "builtin_function_or_method",
    "instance",
    "_Feature"
   ],
   "window_display": false
  }
 },
 "nbformat": 4,
 "nbformat_minor": 5
}
