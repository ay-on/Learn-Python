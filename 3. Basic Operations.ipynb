{
 "cells": [
  {
   "cell_type": "markdown",
   "id": "03e82092",
   "metadata": {},
   "source": [
    "# Basic Operations"
   ]
  },
  {
   "cell_type": "markdown",
   "id": "383fdb54",
   "metadata": {},
   "source": [
    "In Python, we can make our computer do some simple math, just like a calculator. We can add things together, take away some, multiply, and even divide. It's like having a magic math wand!\n",
    "\n",
    "Python helps us perform these basic operations so we can solve math problems, make fun games, and do cool things with numbers."
   ]
  },
  {
   "cell_type": "markdown",
   "id": "72175ea0",
   "metadata": {},
   "source": [
    "# Demonstration\n",
    "\n",
    "Let's use Python to do some basic math operations. We'll add two numbers together, subtract one number from another, multiply two numbers, and divide one number by another."
   ]
  },
  {
   "cell_type": "code",
   "execution_count": 1,
   "id": "4fb375d9",
   "metadata": {},
   "outputs": [
    {
     "name": "stdout",
     "output_type": "stream",
     "text": [
      "10 + 6 = 16\n",
      "10 - 6 = 4\n",
      "6 * 2 = 12\n",
      "15 / 3 = 5.0\n"
     ]
    }
   ],
   "source": [
    "# Adding two numbers\n",
    "result_addition = 10 + 6\n",
    "print(\"10 + 6 =\", result_addition)\n",
    "\n",
    "# Subtracting one number from another\n",
    "result_subtraction = 10 - 6\n",
    "print(\"10 - 6 =\", result_subtraction)\n",
    "\n",
    "# Multiplying two numbers\n",
    "result_multiplication = 6 * 2\n",
    "print(\"6 * 2 =\", result_multiplication)\n",
    "\n",
    "# Dividing one number by another\n",
    "result_division = 15 / 3\n",
    "print(\"15 / 3 =\", result_division)\n"
   ]
  },
  {
   "cell_type": "markdown",
   "id": "078a4884",
   "metadata": {},
   "source": [
    "# Real-World Applications\n",
    "\n",
    "➤ Sharing Snacks - Imagine you have 15 delicious cookies, and you want to share them with your 3 friends. You can use Python's division to find out how many cookies each friend will get. It's a fair way to split the snacks!\n",
    "\n",
    "➤ Counting Toys - If you have a big box of colorful toys, you can use Python's addition to count how many toys you have in total. Just add the number of toys in each color, and you'll know how many toys you own!\n",
    "\n",
    "➤ Making Patterns - You can use Python's multiplication to create fun patterns with numbers. For example, if you want to draw three rows of smiley faces, and each row has four smileys, you can use multiplication to figure out how many smileys you need in total.\n",
    "\n",
    "➤ Saving Money - If you receive some pocket money each week, you can use Python's addition to keep track of how much money you've saved over time. Each week, add the new amount to the total, and you'll know how much money you have in your piggy bank!"
   ]
  },
  {
   "cell_type": "code",
   "execution_count": null,
   "id": "20c6476f",
   "metadata": {},
   "outputs": [],
   "source": []
  }
 ],
 "metadata": {
  "kernelspec": {
   "display_name": "Python 3 (ipykernel)",
   "language": "python",
   "name": "python3"
  },
  "language_info": {
   "codemirror_mode": {
    "name": "ipython",
    "version": 3
   },
   "file_extension": ".py",
   "mimetype": "text/x-python",
   "name": "python",
   "nbconvert_exporter": "python",
   "pygments_lexer": "ipython3",
   "version": "3.11.0"
  },
  "varInspector": {
   "cols": {
    "lenName": 16,
    "lenType": 16,
    "lenVar": 40
   },
   "kernels_config": {
    "python": {
     "delete_cmd_postfix": "",
     "delete_cmd_prefix": "del ",
     "library": "var_list.py",
     "varRefreshCmd": "print(var_dic_list())"
    },
    "r": {
     "delete_cmd_postfix": ") ",
     "delete_cmd_prefix": "rm(",
     "library": "var_list.r",
     "varRefreshCmd": "cat(var_dic_list()) "
    }
   },
   "types_to_exclude": [
    "module",
    "function",
    "builtin_function_or_method",
    "instance",
    "_Feature"
   ],
   "window_display": false
  }
 },
 "nbformat": 4,
 "nbformat_minor": 5
}
